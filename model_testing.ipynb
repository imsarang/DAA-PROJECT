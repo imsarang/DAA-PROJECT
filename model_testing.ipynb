{
  "cells": [
    {
      "cell_type": "code",
      "execution_count": 2,
      "metadata": {
        "colab": {
          "base_uri": "https://localhost:8080/"
        },
        "id": "fOoDMA9W81Bo",
        "outputId": "c5289fef-2c6c-4672-fba7-db06d8604c6a"
      },
      "outputs": [
        {
          "output_type": "stream",
          "name": "stdout",
          "text": [
            "Drive already mounted at /content/drive; to attempt to forcibly remount, call drive.mount(\"/content/drive\", force_remount=True).\n"
          ]
        }
      ],
      "source": [
        "from google.colab import drive\n",
        "drive.mount('/content/drive')"
      ]
    },
    {
      "cell_type": "code",
      "execution_count": 3,
      "metadata": {
        "id": "IVPCROam9CvI"
      },
      "outputs": [],
      "source": [
        "import pandas as pd\n",
        "import numpy as np\n",
        "import matplotlib.pyplot as plt\n",
        "from matplotlib import gridspec\n",
        "import seaborn as sns\n",
        "\n",
        "sns.set_style(\"whitegrid\")"
      ]
    },
    {
      "cell_type": "code",
      "execution_count": 4,
      "metadata": {
        "id": "XU9VxH9V9Zca"
      },
      "outputs": [],
      "source": [
        "from sklearn.feature_selection import mutual_info_regression\n",
        "from sklearn.model_selection import train_test_split, GridSearchCV, cross_val_score\n",
        "from sklearn.metrics import mean_absolute_error, r2_score\n",
        "\n",
        "from sklearn.cluster import KMeans\n",
        "\n",
        "from sklearn.linear_model import LinearRegression\n",
        "from xgboost import XGBRegressor\n",
        "from sklearn.neighbors import KNeighborsRegressor\n",
        "from sklearn.svm import SVR\n",
        "from sklearn.ensemble import ExtraTreesRegressor\n",
        "from sklearn.ensemble import BaggingRegressor\n",
        "from sklearn.preprocessing import OneHotEncoder\n",
        "\n",
        "\n",
        "from scipy import stats"
      ]
    },
    {
      "cell_type": "code",
      "execution_count": 5,
      "metadata": {
        "id": "IcAA-wgJ9PK5"
      },
      "outputs": [],
      "source": [
        "def preprocessing(df):\n",
        "  df[\"class\"] = df[\"class\"].replace({'Economy':0,'Business':1}).astype(int)\n",
        "  df[\"stops\"] = df[\"stops\"].replace({'zero':0,'one':1,'two_or_more':2}).astype(int)\n",
        "\n",
        "  dummies_variables = [\"airline\",\"source_city\",\"destination_city\",\"departure_time\",\"arrival_time\"]\n",
        "  dummies = pd.get_dummies(df[dummies_variables], drop_first= True)\n",
        "  df = pd.concat([df,dummies],axis=1)\n",
        "    \n",
        "  df = df.drop([\"flight\",\"airline\",\"source_city\",\"destination_city\",\"departure_time\",\"arrival_time\"],axis=1)\n",
        "    \n",
        "  return df"
      ]
    },
    {
      "cell_type": "code",
      "source": [
        "df = pd.read_csv(\"/content/drive/MyDrive/Dataset/dataset.csv\")"
      ],
      "metadata": {
        "id": "ltxD1NPdsoUr"
      },
      "execution_count": 38,
      "outputs": []
    },
    {
      "cell_type": "code",
      "execution_count": 6,
      "metadata": {
        "id": "2C2cJmtr81wa"
      },
      "outputs": [],
      "source": [
        "def load_data():\n",
        "    # Read data\n",
        "    df = pd.read_csv(\"/content/drive/MyDrive/Dataset/dataset.csv\")\n",
        "    # Preprocessing the data\n",
        "    \n",
        "    df = preprocessing(df)\n",
        "    \n",
        "    X = df.copy()\n",
        "    y = X.pop(\"price\")\n",
        "    \n",
        "    xtrain,xtest,ytrain,ytest = train_test_split(X,y,random_state = 1,test_size=0.3, shuffle=True)\n",
        "    \n",
        "    return xtrain,xtest,ytrain,ytest"
      ]
    },
    {
      "cell_type": "code",
      "execution_count": 7,
      "metadata": {
        "id": "RgFR63qQ99wz"
      },
      "outputs": [],
      "source": [
        "xtrain,xtest,ytrain,ytest = load_data()"
      ]
    },
    {
      "cell_type": "code",
      "execution_count": 14,
      "metadata": {
        "id": "wGaG7qm7fagA",
        "colab": {
          "base_uri": "https://localhost:8080/"
        },
        "outputId": "37c5ab69-e172-462e-8e7a-6c6e923bfc2e"
      },
      "outputs": [
        {
          "output_type": "execute_result",
          "data": {
            "text/plain": [
              "(210107, 30)"
            ]
          },
          "metadata": {},
          "execution_count": 14
        }
      ],
      "source": [
        "xtrain.shape"
      ]
    },
    {
      "cell_type": "code",
      "source": [
        "xtest.shape"
      ],
      "metadata": {
        "colab": {
          "base_uri": "https://localhost:8080/"
        },
        "id": "yuTQuV0tlnux",
        "outputId": "4794aadc-ac27-4b64-b8c3-79283f1d1a4c"
      },
      "execution_count": 17,
      "outputs": [
        {
          "output_type": "execute_result",
          "data": {
            "text/plain": [
              "(90046, 30)"
            ]
          },
          "metadata": {},
          "execution_count": 17
        }
      ]
    },
    {
      "cell_type": "code",
      "execution_count": 18,
      "metadata": {
        "colab": {
          "base_uri": "https://localhost:8080/"
        },
        "id": "npFbII7XZeWM",
        "outputId": "3e626648-55b0-435e-872c-e52edbf87407"
      },
      "outputs": [
        {
          "output_type": "stream",
          "name": "stdout",
          "text": [
            "<class 'pandas.core.frame.DataFrame'>\n",
            "Int64Index: 210107 entries, 107174 to 128037\n",
            "Data columns (total 30 columns):\n",
            " #   Column                        Non-Null Count   Dtype  \n",
            "---  ------                        --------------   -----  \n",
            " 0   Unnamed: 0                    210107 non-null  int64  \n",
            " 1   stops                         210107 non-null  int64  \n",
            " 2   class                         210107 non-null  int64  \n",
            " 3   duration                      210107 non-null  float64\n",
            " 4   days_left                     210107 non-null  int64  \n",
            " 5   airline_Air_India             210107 non-null  uint8  \n",
            " 6   airline_GO_FIRST              210107 non-null  uint8  \n",
            " 7   airline_Indigo                210107 non-null  uint8  \n",
            " 8   airline_SpiceJet              210107 non-null  uint8  \n",
            " 9   airline_Vistara               210107 non-null  uint8  \n",
            " 10  source_city_Chennai           210107 non-null  uint8  \n",
            " 11  source_city_Delhi             210107 non-null  uint8  \n",
            " 12  source_city_Hyderabad         210107 non-null  uint8  \n",
            " 13  source_city_Kolkata           210107 non-null  uint8  \n",
            " 14  source_city_Mumbai            210107 non-null  uint8  \n",
            " 15  destination_city_Chennai      210107 non-null  uint8  \n",
            " 16  destination_city_Delhi        210107 non-null  uint8  \n",
            " 17  destination_city_Hyderabad    210107 non-null  uint8  \n",
            " 18  destination_city_Kolkata      210107 non-null  uint8  \n",
            " 19  destination_city_Mumbai       210107 non-null  uint8  \n",
            " 20  departure_time_Early_Morning  210107 non-null  uint8  \n",
            " 21  departure_time_Evening        210107 non-null  uint8  \n",
            " 22  departure_time_Late_Night     210107 non-null  uint8  \n",
            " 23  departure_time_Morning        210107 non-null  uint8  \n",
            " 24  departure_time_Night          210107 non-null  uint8  \n",
            " 25  arrival_time_Early_Morning    210107 non-null  uint8  \n",
            " 26  arrival_time_Evening          210107 non-null  uint8  \n",
            " 27  arrival_time_Late_Night       210107 non-null  uint8  \n",
            " 28  arrival_time_Morning          210107 non-null  uint8  \n",
            " 29  arrival_time_Night            210107 non-null  uint8  \n",
            "dtypes: float64(1), int64(4), uint8(25)\n",
            "memory usage: 14.6 MB\n"
          ]
        }
      ],
      "source": [
        "xtrain.info()"
      ]
    },
    {
      "cell_type": "code",
      "execution_count": 19,
      "metadata": {
        "colab": {
          "base_uri": "https://localhost:8080/"
        },
        "id": "9DcDYjvZZsGV",
        "outputId": "03f8e681-9a30-4158-920a-15d8b4172c3b"
      },
      "outputs": [
        {
          "output_type": "stream",
          "name": "stdout",
          "text": [
            "<class 'pandas.core.frame.DataFrame'>\n",
            "Int64Index: 90046 entries, 135562 to 248798\n",
            "Data columns (total 30 columns):\n",
            " #   Column                        Non-Null Count  Dtype  \n",
            "---  ------                        --------------  -----  \n",
            " 0   Unnamed: 0                    90046 non-null  int64  \n",
            " 1   stops                         90046 non-null  int64  \n",
            " 2   class                         90046 non-null  int64  \n",
            " 3   duration                      90046 non-null  float64\n",
            " 4   days_left                     90046 non-null  int64  \n",
            " 5   airline_Air_India             90046 non-null  uint8  \n",
            " 6   airline_GO_FIRST              90046 non-null  uint8  \n",
            " 7   airline_Indigo                90046 non-null  uint8  \n",
            " 8   airline_SpiceJet              90046 non-null  uint8  \n",
            " 9   airline_Vistara               90046 non-null  uint8  \n",
            " 10  source_city_Chennai           90046 non-null  uint8  \n",
            " 11  source_city_Delhi             90046 non-null  uint8  \n",
            " 12  source_city_Hyderabad         90046 non-null  uint8  \n",
            " 13  source_city_Kolkata           90046 non-null  uint8  \n",
            " 14  source_city_Mumbai            90046 non-null  uint8  \n",
            " 15  destination_city_Chennai      90046 non-null  uint8  \n",
            " 16  destination_city_Delhi        90046 non-null  uint8  \n",
            " 17  destination_city_Hyderabad    90046 non-null  uint8  \n",
            " 18  destination_city_Kolkata      90046 non-null  uint8  \n",
            " 19  destination_city_Mumbai       90046 non-null  uint8  \n",
            " 20  departure_time_Early_Morning  90046 non-null  uint8  \n",
            " 21  departure_time_Evening        90046 non-null  uint8  \n",
            " 22  departure_time_Late_Night     90046 non-null  uint8  \n",
            " 23  departure_time_Morning        90046 non-null  uint8  \n",
            " 24  departure_time_Night          90046 non-null  uint8  \n",
            " 25  arrival_time_Early_Morning    90046 non-null  uint8  \n",
            " 26  arrival_time_Evening          90046 non-null  uint8  \n",
            " 27  arrival_time_Late_Night       90046 non-null  uint8  \n",
            " 28  arrival_time_Morning          90046 non-null  uint8  \n",
            " 29  arrival_time_Night            90046 non-null  uint8  \n",
            "dtypes: float64(1), int64(4), uint8(25)\n",
            "memory usage: 6.3 MB\n"
          ]
        }
      ],
      "source": [
        "xtest.info()"
      ]
    },
    {
      "cell_type": "code",
      "execution_count": 20,
      "metadata": {
        "id": "cMaziAMq901s"
      },
      "outputs": [],
      "source": [
        "def score_dataset(X, y, model=XGBRegressor()):\n",
        "    for colname in X.select_dtypes([\"category\"]):\n",
        "        X[colname] = X[colname].cat.codes\n",
        "    \n",
        "    score_r2 = cross_val_score(model, X, y, cv=5, scoring=\"r2\")\n",
        "    score_r2 = score_r2.mean()\n",
        "    \n",
        "    return score_r2"
      ]
    },
    {
      "cell_type": "code",
      "execution_count": 21,
      "metadata": {
        "colab": {
          "base_uri": "https://localhost:8080/"
        },
        "id": "PN4WLj6O9mGv",
        "outputId": "86906e41-f745-4dec-c299-a2c4a53078ad"
      },
      "outputs": [
        {
          "output_type": "execute_result",
          "data": {
            "text/plain": [
              "{'LinearRegression': {'model': LinearRegression()},\n",
              " 'KNeighborsRegressor': {'model': KNeighborsRegressor(n_neighbors=50)},\n",
              " 'XGBRegressor': {'model': XGBRegressor(max_depth=10, n_jobs=5, random_state=1)}}"
            ]
          },
          "metadata": {},
          "execution_count": 21
        }
      ],
      "source": [
        "models = {}\n",
        "\n",
        "models[\"LinearRegression\"]={\"model\":LinearRegression()}\n",
        "models[\"KNeighborsRegressor\"]={\"model\":KNeighborsRegressor(n_neighbors=50)}\n",
        "# models[\"BaggingRegressor\"]={\"model\":BaggingRegressor()}\n",
        "models[\"XGBRegressor\"]={\"model\":XGBRegressor(n_jobs=5,learning_rate=0.1,max_depth=10,random_state=1)}\n",
        "# models[\"ExtraTreeRegressor\"]={\"model\":ExtraTreesRegressor()}\n",
        "\n",
        "\n",
        "models"
      ]
    },
    {
      "cell_type": "code",
      "execution_count": 22,
      "metadata": {
        "id": "Pd10BAuy925k"
      },
      "outputs": [],
      "source": [
        "def get_scores(models,xtrain,ytrain):\n",
        "    for name,model in models.items():\n",
        "        model[\"model\"].fit(xtrain,ytrain)\n",
        "\n",
        "        score_r2 = score_dataset(xtrain, ytrain, model=model[\"model\"])\n",
        "        score = {'model':\"Linear regression\", 'score_r2':score_r2}\n",
        "        print(\"--- \"+name+\" ---\")\n",
        "        print(\"Score r2: {}\".format(score_r2))\n",
        "        print(\"\\n\")"
      ]
    },
    {
      "cell_type": "code",
      "execution_count": 23,
      "metadata": {
        "colab": {
          "base_uri": "https://localhost:8080/"
        },
        "id": "VBo5i9hs96BU",
        "outputId": "6f71d01c-4f4c-4eeb-d8c9-c454eb7d2467"
      },
      "outputs": [
        {
          "output_type": "stream",
          "name": "stdout",
          "text": [
            "--- LinearRegression ---\n",
            "Score r2: 0.910291518573523\n",
            "\n",
            "\n",
            "--- KNeighborsRegressor ---\n",
            "Score r2: 0.896140193921626\n",
            "\n",
            "\n",
            "[06:00:30] WARNING: /workspace/src/objective/regression_obj.cu:152: reg:linear is now deprecated in favor of reg:squarederror.\n",
            "[06:01:12] WARNING: /workspace/src/objective/regression_obj.cu:152: reg:linear is now deprecated in favor of reg:squarederror.\n",
            "[06:01:44] WARNING: /workspace/src/objective/regression_obj.cu:152: reg:linear is now deprecated in favor of reg:squarederror.\n",
            "[06:02:17] WARNING: /workspace/src/objective/regression_obj.cu:152: reg:linear is now deprecated in favor of reg:squarederror.\n",
            "[06:02:50] WARNING: /workspace/src/objective/regression_obj.cu:152: reg:linear is now deprecated in favor of reg:squarederror.\n",
            "[06:03:24] WARNING: /workspace/src/objective/regression_obj.cu:152: reg:linear is now deprecated in favor of reg:squarederror.\n",
            "--- XGBRegressor ---\n",
            "Score r2: 0.9821189244856147\n",
            "\n",
            "\n"
          ]
        }
      ],
      "source": [
        "get_scores(models,xtrain,ytrain)"
      ]
    },
    {
      "cell_type": "code",
      "source": [
        "models_2 = {}\n",
        "\n",
        "models_2[\"LinearRegression\"]={\"model\":LinearRegression()}\n",
        "models_2[\"BaggingRegressor\"]={\"model\":BaggingRegressor()}\n",
        "models_2[\"ExtraTreeRegressor\"]={\"model\":ExtraTreesRegressor()}\n",
        "\n",
        "def get_scores_2(models,xtrain,ytrain):\n",
        "    for name,model in models.items():\n",
        "        model[\"model\"].fit(xtrain,ytrain)\n",
        "\n",
        "        score_r2 = score_dataset(xtrain, ytrain, model=model[\"model\"])\n",
        "        # score = {'model':\"Linear regression\", 'score_r2':score_r2}\n",
        "        print(\"--- \"+name+\" ---\")\n",
        "        print(\"Score r2: {}\".format(score_r2))\n",
        "        print(\"\\n\")"
      ],
      "metadata": {
        "id": "DEjR5ilrk3z0"
      },
      "execution_count": 25,
      "outputs": []
    },
    {
      "cell_type": "code",
      "source": [
        "get_scores_2(models_2, xtrain, ytrain)"
      ],
      "metadata": {
        "colab": {
          "base_uri": "https://localhost:8080/"
        },
        "id": "cLpGKaFLpOU1",
        "outputId": "b5ba6a75-f058-4b5e-dff0-e3df26c2a40d"
      },
      "execution_count": 26,
      "outputs": [
        {
          "output_type": "stream",
          "name": "stdout",
          "text": [
            "--- LinearRegression ---\n",
            "Score r2: 0.910291518573523\n",
            "\n",
            "\n",
            "--- BaggingRegressor ---\n",
            "Score r2: 0.9856655556163554\n",
            "\n",
            "\n",
            "--- ExtraTreeRegressor ---\n",
            "Score r2: 0.9849984948635588\n",
            "\n",
            "\n"
          ]
        }
      ]
    },
    {
      "cell_type": "code",
      "source": [
        "x=df.drop(['price'],axis=1)\n",
        "y=df['price']"
      ],
      "metadata": {
        "id": "IsIEPZD9se4S"
      },
      "execution_count": 39,
      "outputs": []
    },
    {
      "cell_type": "code",
      "source": [
        "def MAPE (ytest, ypred):\n",
        "    ytest, ypred = np.array(ytest), np.array(ypred)\n",
        "    return np.mean(np.abs((ytest - ypred) / ytest)) * 100"
      ],
      "metadata": {
        "id": "_Hu9sNBEragz"
      },
      "execution_count": 33,
      "outputs": []
    },
    {
      "cell_type": "code",
      "source": [
        "from sklearn import metrics"
      ],
      "metadata": {
        "id": "fEXbmAYLrGIk"
      },
      "execution_count": 27,
      "outputs": []
    },
    {
      "cell_type": "code",
      "source": [
        "def metric(models, xtrain, ytrain, xtest, ytest):\n",
        "    for name,model in models.items():\n",
        "        model[\"model\"].fit(xtrain,ytrain)\n",
        "        \n",
        "        score_r2 = score_dataset(xtrain, ytrain, model=model[\"model\"])\n",
        "        print(\"--- \"+name+\" ---\")\n",
        "        print(\"R2 Score [Trained]: {}\".format(score_r2))\n",
        "        print(\"\\n\")\n",
        "\n",
        "\n",
        "        ypred = model[\"model\"].predict(xtest)\n",
        "\n",
        "\n",
        "\n",
        "        result = MAPE(ytest, ypred)\n",
        "    \n",
        "\n",
        "        print(\"--- \"+name+\" ---\")\n",
        "        print('Mean Absolute Error (MAE):', round(metrics.mean_absolute_error(ytest, ypred),3))  \n",
        "        print('Mean Squared Error (MSE):', round(metrics.mean_squared_error(ytest, ypred),3))  \n",
        "        print('Root Mean Squared Error (RMSE):', round(np.sqrt(metrics.mean_squared_error(ytest, ypred)),3))\n",
        "        print('R2 Score:', round(metrics.r2_score(ytest, ypred),6))\n",
        "        print('Root Mean Squared Log Error (RMSLE):', round(np.log(np.sqrt(metrics.mean_squared_error(ytest, ypred))),3))\n",
        "        print('Mean Absolute Percentage Error (MAPE):', round(result, 2), '%')\n",
        "        \n",
        "        r_squared = round(metrics.r2_score(ytest, ypred),6)\n",
        "        adjusted_r_squared = round(1 - (1-r_squared)*(len(y)-1)/(len(y)-x.shape[1]-1),6)\n",
        "        print('Adjusted R Square: ', adjusted_r_squared)\n",
        "\n",
        "        print('+++++++++++++++++++++++++++++++++++++++++++++++++++++++++++++++++++++++++\\n')"
      ],
      "metadata": {
        "id": "jBJNj7Vbqb-x"
      },
      "execution_count": 47,
      "outputs": []
    },
    {
      "cell_type": "code",
      "source": [
        "models_3 = {}\n",
        "\n",
        "models_3[\"LinearRegression\"]={\"model\":LinearRegression()}\n",
        "models_3[\"KNeighborsRegressor\"]={\"model\":KNeighborsRegressor(n_neighbors=50)}\n",
        "models_3[\"BaggingRegressor\"]={\"model\":BaggingRegressor()}\n",
        "models_3[\"ExtraTreeRegressor\"]={\"model\":ExtraTreesRegressor()}\n",
        "\n",
        "metric(models_3, xtrain, ytrain, xtest, ytest)"
      ],
      "metadata": {
        "colab": {
          "base_uri": "https://localhost:8080/"
        },
        "id": "KuWKDPE5rxMZ",
        "outputId": "26e19120-5580-4d2b-ed98-c21329f351cd"
      },
      "execution_count": 48,
      "outputs": [
        {
          "output_type": "stream",
          "name": "stdout",
          "text": [
            "--- LinearRegression ---\n",
            "R2 Score [Trained]: 0.910291518573523\n",
            "\n",
            "\n",
            "--- LinearRegression ---\n",
            "Mean Absolute Error (MAE): 4470.912\n",
            "Mean Squared Error (MSE): 45332990.205\n",
            "Root Mean Squared Error (RMSE): 6732.978\n",
            "R2 Score: 0.911736\n",
            "Root Mean Squared Log Error (RMSLE): 8.815\n",
            "Mean Absolute Percentage Error (MAPE): 42.42 %\n",
            "Adjusted R Square:  0.911733\n",
            "+++++++++++++++++++++++++++++++++++++++++++++++++++++++++++++++++++++++++\n",
            "\n",
            "--- KNeighborsRegressor ---\n",
            "R2 Score [Trained]: 0.896140193921626\n",
            "\n",
            "\n",
            "--- KNeighborsRegressor ---\n",
            "Mean Absolute Error (MAE): 3730.621\n",
            "Mean Squared Error (MSE): 49019919.562\n",
            "Root Mean Squared Error (RMSE): 7001.423\n",
            "R2 Score: 0.904557\n",
            "Root Mean Squared Log Error (RMSLE): 8.854\n",
            "Mean Absolute Percentage Error (MAPE): 23.81 %\n",
            "Adjusted R Square:  0.904554\n",
            "+++++++++++++++++++++++++++++++++++++++++++++++++++++++++++++++++++++++++\n",
            "\n",
            "--- BaggingRegressor ---\n",
            "Mean Absolute Error (MAE): 1012.074\n",
            "Mean Squared Error (MSE): 6657099.35\n",
            "Root Mean Squared Error (RMSE): 2580.136\n",
            "R2 Score: 0.987038\n",
            "Root Mean Squared Log Error (RMSLE): 7.856\n",
            "Mean Absolute Percentage Error (MAPE): 6.64 %\n",
            "Adjusted R Square:  0.987038\n",
            "+++++++++++++++++++++++++++++++++++++++++++++++++++++++++++++++++++++++++\n",
            "\n",
            "--- ExtraTreeRegressor ---\n",
            "R2 Score [Trained]: 0.9849850719173441\n",
            "\n",
            "\n",
            "--- ExtraTreeRegressor ---\n",
            "Mean Absolute Error (MAE): 988.11\n",
            "Mean Squared Error (MSE): 6776621.694\n",
            "Root Mean Squared Error (RMSE): 2603.195\n",
            "R2 Score: 0.986806\n",
            "Root Mean Squared Log Error (RMSLE): 7.864\n",
            "Mean Absolute Percentage Error (MAPE): 6.51 %\n",
            "Adjusted R Square:  0.986806\n",
            "+++++++++++++++++++++++++++++++++++++++++++++++++++++++++++++++++++++++++\n",
            "\n"
          ]
        }
      ]
    },
    {
      "cell_type": "code",
      "source": [
        "models_4 = {}\n",
        "models_4[\"XGBRegressor\"]={\"model\":XGBRegressor(n_jobs=5,learning_rate=0.1,max_depth=10,random_state=1)}\n",
        "\n",
        "metric(models_4, xtrain, ytrain, xtest, ytest)"
      ],
      "metadata": {
        "id": "ak0Z_xpD5Qnr"
      },
      "execution_count": null,
      "outputs": []
    }
  ],
  "metadata": {
    "colab": {
      "provenance": []
    },
    "kernelspec": {
      "display_name": "Python 3",
      "name": "python3"
    },
    "language_info": {
      "name": "python"
    }
  },
  "nbformat": 4,
  "nbformat_minor": 0
}